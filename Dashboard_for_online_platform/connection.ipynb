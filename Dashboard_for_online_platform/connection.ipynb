{
 "cells": [
  {
   "cell_type": "markdown",
   "metadata": {},
   "source": [
    " ## Подключаемся к базе данных\n",
    " \n",
    " **Подключаемся к базе данных, выгружаем таблицу csv SQL запросом для далнейшего построения dashboard в Tableau.**  \n",
    " *имя пользователя, пароль и порт не указываю по причине конфиденциальности информации*"
   ]
  },
  {
   "cell_type": "code",
   "execution_count": 3,
   "metadata": {},
   "outputs": [],
   "source": [
    "#!/usr/bin/python\n",
    "# -*- coding: utf-8 -*-\n",
    " \n",
    " \n",
    " \n",
    "import pandas as pd\n",
    "from sqlalchemy import create_engine\n",
    " \n",
    "db_config = {'user': '***', # имя пользователя\n",
    "            'pwd': '***', # пароль\n",
    "            'host': '***',\n",
    "            'port': ***, # порт подключения\n",
    "            'db': '***'} # название базы данных\n",
    " \n",
    "connection_string = 'postgresql://{}:{}@{}:{}/{}'.format(db_config['user'],\n",
    "                                                db_config['pwd'],\n",
    "                                                db_config['host'],\n",
    "                                                db_config['port'],\n",
    "                                                db_config['db'])\n",
    " \n",
    "engine = create_engine(connection_string) \n",
    "query = '''\n",
    "            SELECT * FROM dash_visits\n",
    "        '''\n",
    "dash_visits = pd.io.sql.read_sql(query, con = engine)\n",
    "dash_visits = dash_visits.to_csv('dash_visits.csv')"
   ]
  },
  {
   "cell_type": "code",
   "execution_count": null,
   "metadata": {},
   "outputs": [],
   "source": []
  }
 ],
 "metadata": {
  "kernelspec": {
   "display_name": "Python 3",
   "language": "python",
   "name": "python3"
  },
  "language_info": {
   "codemirror_mode": {
    "name": "ipython",
    "version": 3
   },
   "file_extension": ".py",
   "mimetype": "text/x-python",
   "name": "python",
   "nbconvert_exporter": "python",
   "pygments_lexer": "ipython3",
   "version": "3.8.3"
  }
 },
 "nbformat": 4,
 "nbformat_minor": 4
}
