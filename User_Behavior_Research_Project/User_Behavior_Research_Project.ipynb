{
 "cells": [
  {
   "cell_type": "markdown",
   "metadata": {},
   "source": [
    "# Проект исследования поведения пользователей в мобильном приложении"
   ]
  },
  {
   "cell_type": "markdown",
   "metadata": {},
   "source": [
    "### Цели проекта\n",
    "- Изучить поведение пользователей мобильного приложения по продаже продуктов питания;\n",
    "- Построить воронки продаж и посмотреть какой путь проходят пользователи и где могут быть точки роста у приложения;\n",
    "- Также необходимо провести А/А и А/В тесты проверяя как влияет изменения шрифта приложения имея 2 конторльные выборки и 1 новую выборку."
   ]
  },
  {
   "cell_type": "markdown",
   "metadata": {},
   "source": [
    "### Описание данных \n",
    "EventName — название события;  \n",
    "DeviceIDHash — ID пользователя;  \n",
    "EventTimestamp — время события;  \n",
    "ExpId — номер груп для тестов: 246 и 247 — контрольные группы, а 248 — экспериментальная. "
   ]
  },
  {
   "cell_type": "markdown",
   "metadata": {},
   "source": [
    "<div class=\"alert alert-block alert-info\">\n",
    "<h2>Проект исследования поведения пользователей в мобильном приложении</h2>\n",
    "    \n",
    "**Навигация по исследованию**\n",
    "    \n",
    "*Шаг 1*\n",
    " - <a href= '#1_link'>Предобработка данных</a> \n",
    "\n",
    "*Шаг 2*\n",
    " - <a href= '#2_link'>Изучаем данные<a>\n",
    "\n",
    "\n",
    " \n",
    "*Шаг 3*\n",
    " - <a href= '#3_link'>Построение продуктовых воронок<a>\n",
    "\n",
    "\n",
    "    \n",
    "    \n",
    "*Шаг 4*  \n",
    " - <a href= '#4_link'>Проведение А/А и А/В тестов<a>\n",
    "    \n",
    "    \n",
    "*Общий вывод*   \n",
    " \n",
    " - <a href= '#5_link'>Общий вывод<a>    "
   ]
  },
  {
   "cell_type": "code",
   "execution_count": 1,
   "metadata": {},
   "outputs": [],
   "source": [
    "import pandas as pd\n",
    "import matplotlib.pyplot as plt\n",
    "import datetime as dt\n",
    "import seaborn as sns\n",
    "import plotly.express as px\n",
    "from plotly import graph_objects as go\n",
    "import numpy as np\n",
    "from datetime import datetime\n",
    "from scipy import stats as st\n",
    "import math as mth\n",
    "import cmath\n",
    "import nbconvert\n",
    "from IPython.display import Javascript\n",
    "from nbconvert import HTMLExporter"
   ]
  },
  {
   "cell_type": "markdown",
   "metadata": {},
   "source": [
    "## Шаг 1\n",
    "<a id='1_link'><a>"
   ]
  },
  {
   "cell_type": "code",
   "execution_count": 2,
   "metadata": {},
   "outputs": [
    {
     "data": {
      "text/html": [
       "<div>\n",
       "<style scoped>\n",
       "    .dataframe tbody tr th:only-of-type {\n",
       "        vertical-align: middle;\n",
       "    }\n",
       "\n",
       "    .dataframe tbody tr th {\n",
       "        vertical-align: top;\n",
       "    }\n",
       "\n",
       "    .dataframe thead th {\n",
       "        text-align: right;\n",
       "    }\n",
       "</style>\n",
       "<table border=\"1\" class=\"dataframe\">\n",
       "  <thead>\n",
       "    <tr style=\"text-align: right;\">\n",
       "      <th></th>\n",
       "      <th>event</th>\n",
       "      <th>device_id</th>\n",
       "      <th>time_stamp</th>\n",
       "      <th>test_id</th>\n",
       "    </tr>\n",
       "  </thead>\n",
       "  <tbody>\n",
       "    <tr>\n",
       "      <th>0</th>\n",
       "      <td>MainScreenAppear</td>\n",
       "      <td>4575588528974610257</td>\n",
       "      <td>1564029816</td>\n",
       "      <td>246</td>\n",
       "    </tr>\n",
       "    <tr>\n",
       "      <th>1</th>\n",
       "      <td>MainScreenAppear</td>\n",
       "      <td>7416695313311560658</td>\n",
       "      <td>1564053102</td>\n",
       "      <td>246</td>\n",
       "    </tr>\n",
       "    <tr>\n",
       "      <th>2</th>\n",
       "      <td>PaymentScreenSuccessful</td>\n",
       "      <td>3518123091307005509</td>\n",
       "      <td>1564054127</td>\n",
       "      <td>248</td>\n",
       "    </tr>\n",
       "    <tr>\n",
       "      <th>3</th>\n",
       "      <td>CartScreenAppear</td>\n",
       "      <td>3518123091307005509</td>\n",
       "      <td>1564054127</td>\n",
       "      <td>248</td>\n",
       "    </tr>\n",
       "    <tr>\n",
       "      <th>4</th>\n",
       "      <td>PaymentScreenSuccessful</td>\n",
       "      <td>6217807653094995999</td>\n",
       "      <td>1564055322</td>\n",
       "      <td>248</td>\n",
       "    </tr>\n",
       "    <tr>\n",
       "      <th>5</th>\n",
       "      <td>CartScreenAppear</td>\n",
       "      <td>6217807653094995999</td>\n",
       "      <td>1564055323</td>\n",
       "      <td>248</td>\n",
       "    </tr>\n",
       "    <tr>\n",
       "      <th>6</th>\n",
       "      <td>OffersScreenAppear</td>\n",
       "      <td>8351860793733343758</td>\n",
       "      <td>1564066242</td>\n",
       "      <td>246</td>\n",
       "    </tr>\n",
       "    <tr>\n",
       "      <th>7</th>\n",
       "      <td>MainScreenAppear</td>\n",
       "      <td>5682100281902512875</td>\n",
       "      <td>1564085677</td>\n",
       "      <td>246</td>\n",
       "    </tr>\n",
       "    <tr>\n",
       "      <th>8</th>\n",
       "      <td>MainScreenAppear</td>\n",
       "      <td>1850981295691852772</td>\n",
       "      <td>1564086702</td>\n",
       "      <td>247</td>\n",
       "    </tr>\n",
       "    <tr>\n",
       "      <th>9</th>\n",
       "      <td>MainScreenAppear</td>\n",
       "      <td>5407636962369102641</td>\n",
       "      <td>1564112112</td>\n",
       "      <td>246</td>\n",
       "    </tr>\n",
       "  </tbody>\n",
       "</table>\n",
       "</div>"
      ],
      "text/plain": [
       "                     event            device_id  time_stamp  test_id\n",
       "0         MainScreenAppear  4575588528974610257  1564029816      246\n",
       "1         MainScreenAppear  7416695313311560658  1564053102      246\n",
       "2  PaymentScreenSuccessful  3518123091307005509  1564054127      248\n",
       "3         CartScreenAppear  3518123091307005509  1564054127      248\n",
       "4  PaymentScreenSuccessful  6217807653094995999  1564055322      248\n",
       "5         CartScreenAppear  6217807653094995999  1564055323      248\n",
       "6       OffersScreenAppear  8351860793733343758  1564066242      246\n",
       "7         MainScreenAppear  5682100281902512875  1564085677      246\n",
       "8         MainScreenAppear  1850981295691852772  1564086702      247\n",
       "9         MainScreenAppear  5407636962369102641  1564112112      246"
      ]
     },
     "metadata": {},
     "output_type": "display_data"
    }
   ],
   "source": [
    "df = pd.read_csv('logs_exp.csv', sep='\\t')\n",
    "df = df.rename(columns={\"EventName\": \"event\", \"DeviceIDHash\": \"device_id\", \"EventTimestamp\": \"time_stamp\", \"ExpId\":\"test_id\"})\n",
    "# переименовал названия столбцов для удобства\n",
    "\n",
    "display(df.head(10))"
   ]
  },
  {
   "cell_type": "code",
   "execution_count": 3,
   "metadata": {},
   "outputs": [
    {
     "name": "stdout",
     "output_type": "stream",
     "text": [
      "<class 'pandas.core.frame.DataFrame'>\n",
      "RangeIndex: 244126 entries, 0 to 244125\n",
      "Data columns (total 4 columns):\n",
      " #   Column      Non-Null Count   Dtype \n",
      "---  ------      --------------   ----- \n",
      " 0   event       244126 non-null  object\n",
      " 1   device_id   244126 non-null  int64 \n",
      " 2   time_stamp  244126 non-null  int64 \n",
      " 3   test_id     244126 non-null  int64 \n",
      "dtypes: int64(3), object(1)\n",
      "memory usage: 7.5+ MB\n"
     ]
    },
    {
     "data": {
      "text/plain": [
       "None"
      ]
     },
     "metadata": {},
     "output_type": "display_data"
    },
    {
     "data": {
      "text/plain": [
       "event         0\n",
       "device_id     0\n",
       "time_stamp    0\n",
       "test_id       0\n",
       "dtype: int64"
      ]
     },
     "metadata": {},
     "output_type": "display_data"
    }
   ],
   "source": [
    "display(df.info())\n",
    "display(df.isnull().sum())\n",
    "df = df.drop_duplicates()\n",
    "#пропусков нет, ушло немного дубликатов, так как всего из было около тысячи для такого массива данных это ок\n"
   ]
  },
  {
   "cell_type": "code",
   "execution_count": 4,
   "metadata": {},
   "outputs": [
    {
     "data": {
      "text/plain": [
       "MainScreenAppear           119101\n",
       "OffersScreenAppear          46808\n",
       "CartScreenAppear            42668\n",
       "PaymentScreenSuccessful     34118\n",
       "Tutorial                     1018\n",
       "Name: event, dtype: int64"
      ]
     },
     "metadata": {},
     "output_type": "display_data"
    },
    {
     "data": {
      "text/plain": [
       "6304868067479728361    2307\n",
       "197027893265565660     1998\n",
       "4623191541214045580    1768\n",
       "6932517045703054087    1439\n",
       "1754140665440434215    1221\n",
       "                       ... \n",
       "3336727186673646149       1\n",
       "1657967711232741323       1\n",
       "425817683219936619        1\n",
       "4089770943116790924       1\n",
       "1083512226259476085       1\n",
       "Name: device_id, Length: 7551, dtype: int64"
      ]
     },
     "metadata": {},
     "output_type": "display_data"
    },
    {
     "data": {
      "text/plain": [
       "248    85582\n",
       "246    80181\n",
       "247    77950\n",
       "Name: test_id, dtype: int64"
      ]
     },
     "metadata": {},
     "output_type": "display_data"
    }
   ],
   "source": [
    "display(df['event'].value_counts())\n",
    "display(df['device_id'].value_counts())\n",
    "display(df['test_id'].value_counts())"
   ]
  },
  {
   "cell_type": "code",
   "execution_count": 5,
   "metadata": {},
   "outputs": [],
   "source": [
    "df['time_stamp'] = pd.to_datetime(df['time_stamp'], unit='s')\n",
    "df['date'] = df['time_stamp'].dt.date.astype('datetime64')\n",
    "df['time'] = df['time_stamp'].dt.time#.astype('datetime64')\n",
    "# перевели нужные столбцы в даты и добавил стобцы только с датой и только с верменем"
   ]
  },
  {
   "cell_type": "code",
   "execution_count": 6,
   "metadata": {},
   "outputs": [
    {
     "data": {
      "text/plain": [
       "0        2019-07-25 04:43:36\n",
       "1        2019-07-25 11:11:42\n",
       "2        2019-07-25 11:28:47\n",
       "3        2019-07-25 11:28:47\n",
       "4        2019-07-25 11:48:42\n",
       "                 ...        \n",
       "244121   2019-08-07 21:12:25\n",
       "244122   2019-08-07 21:13:59\n",
       "244123   2019-08-07 21:14:43\n",
       "244124   2019-08-07 21:14:58\n",
       "244125   2019-08-07 21:15:17\n",
       "Name: time_stamp, Length: 243713, dtype: datetime64[ns]"
      ]
     },
     "metadata": {},
     "output_type": "display_data"
    },
    {
     "name": "stdout",
     "output_type": "stream",
     "text": [
      "<class 'pandas.core.frame.DataFrame'>\n",
      "Int64Index: 243713 entries, 0 to 244125\n",
      "Data columns (total 6 columns):\n",
      " #   Column      Non-Null Count   Dtype         \n",
      "---  ------      --------------   -----         \n",
      " 0   event       243713 non-null  object        \n",
      " 1   device_id   243713 non-null  int64         \n",
      " 2   time_stamp  243713 non-null  datetime64[ns]\n",
      " 3   test_id     243713 non-null  int64         \n",
      " 4   date        243713 non-null  datetime64[ns]\n",
      " 5   time        243713 non-null  object        \n",
      "dtypes: datetime64[ns](2), int64(2), object(2)\n",
      "memory usage: 13.0+ MB\n"
     ]
    },
    {
     "data": {
      "text/plain": [
       "None"
      ]
     },
     "metadata": {},
     "output_type": "display_data"
    },
    {
     "data": {
      "text/html": [
       "<div>\n",
       "<style scoped>\n",
       "    .dataframe tbody tr th:only-of-type {\n",
       "        vertical-align: middle;\n",
       "    }\n",
       "\n",
       "    .dataframe tbody tr th {\n",
       "        vertical-align: top;\n",
       "    }\n",
       "\n",
       "    .dataframe thead th {\n",
       "        text-align: right;\n",
       "    }\n",
       "</style>\n",
       "<table border=\"1\" class=\"dataframe\">\n",
       "  <thead>\n",
       "    <tr style=\"text-align: right;\">\n",
       "      <th></th>\n",
       "      <th>event</th>\n",
       "      <th>device_id</th>\n",
       "      <th>time_stamp</th>\n",
       "      <th>test_id</th>\n",
       "      <th>date</th>\n",
       "      <th>time</th>\n",
       "    </tr>\n",
       "  </thead>\n",
       "  <tbody>\n",
       "    <tr>\n",
       "      <th>0</th>\n",
       "      <td>MainScreenAppear</td>\n",
       "      <td>4575588528974610257</td>\n",
       "      <td>2019-07-25 04:43:36</td>\n",
       "      <td>246</td>\n",
       "      <td>2019-07-25</td>\n",
       "      <td>04:43:36</td>\n",
       "    </tr>\n",
       "    <tr>\n",
       "      <th>1</th>\n",
       "      <td>MainScreenAppear</td>\n",
       "      <td>7416695313311560658</td>\n",
       "      <td>2019-07-25 11:11:42</td>\n",
       "      <td>246</td>\n",
       "      <td>2019-07-25</td>\n",
       "      <td>11:11:42</td>\n",
       "    </tr>\n",
       "    <tr>\n",
       "      <th>2</th>\n",
       "      <td>PaymentScreenSuccessful</td>\n",
       "      <td>3518123091307005509</td>\n",
       "      <td>2019-07-25 11:28:47</td>\n",
       "      <td>248</td>\n",
       "      <td>2019-07-25</td>\n",
       "      <td>11:28:47</td>\n",
       "    </tr>\n",
       "    <tr>\n",
       "      <th>3</th>\n",
       "      <td>CartScreenAppear</td>\n",
       "      <td>3518123091307005509</td>\n",
       "      <td>2019-07-25 11:28:47</td>\n",
       "      <td>248</td>\n",
       "      <td>2019-07-25</td>\n",
       "      <td>11:28:47</td>\n",
       "    </tr>\n",
       "    <tr>\n",
       "      <th>4</th>\n",
       "      <td>PaymentScreenSuccessful</td>\n",
       "      <td>6217807653094995999</td>\n",
       "      <td>2019-07-25 11:48:42</td>\n",
       "      <td>248</td>\n",
       "      <td>2019-07-25</td>\n",
       "      <td>11:48:42</td>\n",
       "    </tr>\n",
       "  </tbody>\n",
       "</table>\n",
       "</div>"
      ],
      "text/plain": [
       "                     event            device_id          time_stamp  test_id  \\\n",
       "0         MainScreenAppear  4575588528974610257 2019-07-25 04:43:36      246   \n",
       "1         MainScreenAppear  7416695313311560658 2019-07-25 11:11:42      246   \n",
       "2  PaymentScreenSuccessful  3518123091307005509 2019-07-25 11:28:47      248   \n",
       "3         CartScreenAppear  3518123091307005509 2019-07-25 11:28:47      248   \n",
       "4  PaymentScreenSuccessful  6217807653094995999 2019-07-25 11:48:42      248   \n",
       "\n",
       "        date      time  \n",
       "0 2019-07-25  04:43:36  \n",
       "1 2019-07-25  11:11:42  \n",
       "2 2019-07-25  11:28:47  \n",
       "3 2019-07-25  11:28:47  \n",
       "4 2019-07-25  11:48:42  "
      ]
     },
     "metadata": {},
     "output_type": "display_data"
    }
   ],
   "source": [
    "display(df['time_stamp'])\n",
    "display(df.info())\n",
    "display(df.head())"
   ]
  },
  {
   "cell_type": "markdown",
   "metadata": {},
   "source": [
    "**Подготовили данные к последующей работеа именно:**\n",
    "- убрал дубликаты, ушло немного около 1к значений\n",
    "- перевели столбцы в нужные форматы\n",
    "- переименовал названия столбцов для удобства\n",
    "- изучил данные"
   ]
  },
  {
   "cell_type": "markdown",
   "metadata": {},
   "source": [
    "## Шаг 2\n",
    "<a id='2_link'><a>"
   ]
  },
  {
   "cell_type": "code",
   "execution_count": 7,
   "metadata": {},
   "outputs": [
    {
     "data": {
      "text/plain": [
       "MainScreenAppear           119101\n",
       "OffersScreenAppear          46808\n",
       "CartScreenAppear            42668\n",
       "PaymentScreenSuccessful     34118\n",
       "Tutorial                     1018\n",
       "Name: event, dtype: int64"
      ]
     },
     "metadata": {},
     "output_type": "display_data"
    },
    {
     "data": {
      "text/plain": [
       "7551"
      ]
     },
     "metadata": {},
     "output_type": "display_data"
    },
    {
     "data": {
      "text/html": [
       "<div>\n",
       "<style scoped>\n",
       "    .dataframe tbody tr th:only-of-type {\n",
       "        vertical-align: middle;\n",
       "    }\n",
       "\n",
       "    .dataframe tbody tr th {\n",
       "        vertical-align: top;\n",
       "    }\n",
       "\n",
       "    .dataframe thead th {\n",
       "        text-align: right;\n",
       "    }\n",
       "</style>\n",
       "<table border=\"1\" class=\"dataframe\">\n",
       "  <thead>\n",
       "    <tr style=\"text-align: right;\">\n",
       "      <th></th>\n",
       "      <th>device_id</th>\n",
       "    </tr>\n",
       "    <tr>\n",
       "      <th>event</th>\n",
       "      <th></th>\n",
       "    </tr>\n",
       "  </thead>\n",
       "  <tbody>\n",
       "    <tr>\n",
       "      <th>MainScreenAppear</th>\n",
       "      <td>7439</td>\n",
       "    </tr>\n",
       "    <tr>\n",
       "      <th>OffersScreenAppear</th>\n",
       "      <td>4613</td>\n",
       "    </tr>\n",
       "    <tr>\n",
       "      <th>CartScreenAppear</th>\n",
       "      <td>3749</td>\n",
       "    </tr>\n",
       "    <tr>\n",
       "      <th>PaymentScreenSuccessful</th>\n",
       "      <td>3547</td>\n",
       "    </tr>\n",
       "    <tr>\n",
       "      <th>Tutorial</th>\n",
       "      <td>847</td>\n",
       "    </tr>\n",
       "  </tbody>\n",
       "</table>\n",
       "</div>"
      ],
      "text/plain": [
       "                         device_id\n",
       "event                             \n",
       "MainScreenAppear              7439\n",
       "OffersScreenAppear            4613\n",
       "CartScreenAppear              3749\n",
       "PaymentScreenSuccessful       3547\n",
       "Tutorial                       847"
      ]
     },
     "metadata": {},
     "output_type": "display_data"
    }
   ],
   "source": [
    "display(df['event'].value_counts()) #все события\n",
    "display(df['device_id'].nunique()) # количество уникальных пользователей\n",
    "display(df.groupby('event').agg({\"device_id\": \"nunique\"}).sort_values(\n",
    "    by='device_id', ascending=False)) #смотрим сколько приходится событий на уникальных пользователей\n",
    "\n",
    "\n",
    "\n"
   ]
  },
  {
   "cell_type": "code",
   "execution_count": 8,
   "metadata": {},
   "outputs": [
    {
     "data": {
      "text/plain": [
       "count                  243713\n",
       "unique                     14\n",
       "top       2019-08-01 00:00:00\n",
       "freq                    36141\n",
       "first     2019-07-25 00:00:00\n",
       "last      2019-08-07 00:00:00\n",
       "Name: date, dtype: object"
      ]
     },
     "metadata": {},
     "output_type": "display_data"
    }
   ],
   "source": [
    "display(df['date'].describe())\n",
    "#display(df['date'].hist(bins=30))\n",
    "#date_hist = px.histogram(df, x=\"date\",nbins=25,title='распределение действий пользователей по дате',labels={'date':'дата'})\n",
    "#date_hist.show()\n"
   ]
  },
  {
   "cell_type": "markdown",
   "metadata": {},
   "source": [
    "**Как видно из гистограммы несмотря то что первое дейтсвие у нас было совершенно ещё 25 июля то до августа у практически не было активности, поэтому будем считать от 1 августа включительно, и откинем данные ранее, у нас получится неделя данных**"
   ]
  },
  {
   "cell_type": "code",
   "execution_count": 9,
   "metadata": {},
   "outputs": [
    {
     "name": "stdout",
     "output_type": "stream",
     "text": [
      "<class 'pandas.core.frame.DataFrame'>\n",
      "Int64Index: 240887 entries, 2828 to 244125\n",
      "Data columns (total 6 columns):\n",
      " #   Column      Non-Null Count   Dtype         \n",
      "---  ------      --------------   -----         \n",
      " 0   event       240887 non-null  object        \n",
      " 1   device_id   240887 non-null  int64         \n",
      " 2   time_stamp  240887 non-null  datetime64[ns]\n",
      " 3   test_id     240887 non-null  int64         \n",
      " 4   date        240887 non-null  datetime64[ns]\n",
      " 5   time        240887 non-null  object        \n",
      "dtypes: datetime64[ns](2), int64(2), object(2)\n",
      "memory usage: 12.9+ MB\n"
     ]
    },
    {
     "data": {
      "text/plain": [
       "None"
      ]
     },
     "metadata": {},
     "output_type": "display_data"
    }
   ],
   "source": [
    "display(df.query('date >=\"2019-08-01\"').info()) \n",
    "#если откинем данные до 1 августа, то всего потеряем около 3 тыс, что совсем немного для такого массива\n",
    "df = df.query('date >=\"2019-08-01\"')\n",
    "\n",
    "\n"
   ]
  },
  {
   "cell_type": "code",
   "execution_count": 10,
   "metadata": {},
   "outputs": [
    {
     "data": {
      "text/plain": [
       "248    84563\n",
       "246    79302\n",
       "247    77022\n",
       "Name: test_id, dtype: int64"
      ]
     },
     "metadata": {},
     "output_type": "display_data"
    }
   ],
   "source": [
    "display(df['test_id'].value_counts())\n",
    "# также есть все выборки експерементальные, всё ок"
   ]
  },
  {
   "cell_type": "code",
   "execution_count": 11,
   "metadata": {},
   "outputs": [
    {
     "data": {
      "text/html": [
       "<div>\n",
       "<style scoped>\n",
       "    .dataframe tbody tr th:only-of-type {\n",
       "        vertical-align: middle;\n",
       "    }\n",
       "\n",
       "    .dataframe tbody tr th {\n",
       "        vertical-align: top;\n",
       "    }\n",
       "\n",
       "    .dataframe thead th {\n",
       "        text-align: right;\n",
       "    }\n",
       "</style>\n",
       "<table border=\"1\" class=\"dataframe\">\n",
       "  <thead>\n",
       "    <tr style=\"text-align: right;\">\n",
       "      <th></th>\n",
       "      <th>device_id</th>\n",
       "    </tr>\n",
       "    <tr>\n",
       "      <th>test_id</th>\n",
       "      <th></th>\n",
       "    </tr>\n",
       "  </thead>\n",
       "  <tbody>\n",
       "    <tr>\n",
       "      <th>248</th>\n",
       "      <td>2537</td>\n",
       "    </tr>\n",
       "    <tr>\n",
       "      <th>247</th>\n",
       "      <td>2513</td>\n",
       "    </tr>\n",
       "    <tr>\n",
       "      <th>246</th>\n",
       "      <td>2484</td>\n",
       "    </tr>\n",
       "  </tbody>\n",
       "</table>\n",
       "</div>"
      ],
      "text/plain": [
       "         device_id\n",
       "test_id           \n",
       "248           2537\n",
       "247           2513\n",
       "246           2484"
      ]
     },
     "metadata": {},
     "output_type": "display_data"
    }
   ],
   "source": [
    "display(df.groupby('test_id').agg({\"device_id\": \"nunique\"}).sort_values(\n",
    "    by='device_id', ascending=False))\n",
    "# количество уникальных пользователей в каждой из групп\n",
    "\n",
    "\n",
    "#\n",
    "#fig = go.Figure(data=[go.Pie(labels=['246','247','248'],\n",
    "                         #    values=[2484,2513,2537])])\n",
    "#fig.show()"
   ]
  },
  {
   "cell_type": "markdown",
   "metadata": {},
   "source": [
    "*Определили временную выборку с 1 августа, так как до 1 августа было мало действий. По сути получили недельную выборку активности пользователей*\n",
    "*Групы также распределенны верно, разница в выборках меньше 1%, что показывает нам корректность разделения на группы*"
   ]
  },
  {
   "cell_type": "markdown",
   "metadata": {},
   "source": [
    "## Шаг 3\n",
    "<a id='3_link'><a>"
   ]
  },
  {
   "cell_type": "code",
   "execution_count": 12,
   "metadata": {},
   "outputs": [
    {
     "data": {
      "text/html": [
       "<div>\n",
       "<style scoped>\n",
       "    .dataframe tbody tr th:only-of-type {\n",
       "        vertical-align: middle;\n",
       "    }\n",
       "\n",
       "    .dataframe tbody tr th {\n",
       "        vertical-align: top;\n",
       "    }\n",
       "\n",
       "    .dataframe thead th {\n",
       "        text-align: right;\n",
       "    }\n",
       "</style>\n",
       "<table border=\"1\" class=\"dataframe\">\n",
       "  <thead>\n",
       "    <tr style=\"text-align: right;\">\n",
       "      <th></th>\n",
       "      <th>device_id</th>\n",
       "    </tr>\n",
       "    <tr>\n",
       "      <th>event</th>\n",
       "      <th></th>\n",
       "    </tr>\n",
       "  </thead>\n",
       "  <tbody>\n",
       "    <tr>\n",
       "      <th>MainScreenAppear</th>\n",
       "      <td>7419</td>\n",
       "    </tr>\n",
       "    <tr>\n",
       "      <th>OffersScreenAppear</th>\n",
       "      <td>4593</td>\n",
       "    </tr>\n",
       "    <tr>\n",
       "      <th>CartScreenAppear</th>\n",
       "      <td>3734</td>\n",
       "    </tr>\n",
       "    <tr>\n",
       "      <th>PaymentScreenSuccessful</th>\n",
       "      <td>3539</td>\n",
       "    </tr>\n",
       "    <tr>\n",
       "      <th>Tutorial</th>\n",
       "      <td>840</td>\n",
       "    </tr>\n",
       "  </tbody>\n",
       "</table>\n",
       "</div>"
      ],
      "text/plain": [
       "                         device_id\n",
       "event                             \n",
       "MainScreenAppear              7419\n",
       "OffersScreenAppear            4593\n",
       "CartScreenAppear              3734\n",
       "PaymentScreenSuccessful       3539\n",
       "Tutorial                       840"
      ]
     },
     "metadata": {},
     "output_type": "display_data"
    }
   ],
   "source": [
    "display(df.groupby('event').agg({\"device_id\": \"nunique\"}).sort_values(\n",
    "    by='device_id', ascending=False))\n",
    "\n"
   ]
  },
  {
   "cell_type": "markdown",
   "metadata": {},
   "source": [
    "*Судя по групировки мы видим что наш пользователе проходит путь: главная страничка - страничка с продуктами - страничка с выбором оплаты и других данных - окно удачной оплаты. Есть ещё окно \"помощь\", но он не в общей цепочки действий, а точнее скорее всего не всегда в ней. интересно будет посмотреть детальней как это окно влияет на пользователей*"
   ]
  },
  {
   "cell_type": "code",
   "execution_count": 13,
   "metadata": {},
   "outputs": [
    {
     "data": {
      "text/html": [
       "<div>\n",
       "<style scoped>\n",
       "    .dataframe tbody tr th:only-of-type {\n",
       "        vertical-align: middle;\n",
       "    }\n",
       "\n",
       "    .dataframe tbody tr th {\n",
       "        vertical-align: top;\n",
       "    }\n",
       "\n",
       "    .dataframe thead th {\n",
       "        text-align: right;\n",
       "    }\n",
       "</style>\n",
       "<table border=\"1\" class=\"dataframe\">\n",
       "  <thead>\n",
       "    <tr style=\"text-align: right;\">\n",
       "      <th>event</th>\n",
       "      <th>CartScreenAppear</th>\n",
       "      <th>MainScreenAppear</th>\n",
       "      <th>OffersScreenAppear</th>\n",
       "      <th>PaymentScreenSuccessful</th>\n",
       "      <th>Tutorial</th>\n",
       "    </tr>\n",
       "    <tr>\n",
       "      <th>device_id</th>\n",
       "      <th></th>\n",
       "      <th></th>\n",
       "      <th></th>\n",
       "      <th></th>\n",
       "      <th></th>\n",
       "    </tr>\n",
       "  </thead>\n",
       "  <tbody>\n",
       "    <tr>\n",
       "      <th>6888746892508752</th>\n",
       "      <td>NaT</td>\n",
       "      <td>2019-08-06 14:06:34</td>\n",
       "      <td>NaT</td>\n",
       "      <td>NaT</td>\n",
       "      <td>NaT</td>\n",
       "    </tr>\n",
       "    <tr>\n",
       "      <th>6909561520679493</th>\n",
       "      <td>2019-08-06 18:52:58</td>\n",
       "      <td>2019-08-06 18:52:54</td>\n",
       "      <td>2019-08-06 18:53:04</td>\n",
       "      <td>2019-08-06 18:52:58</td>\n",
       "      <td>NaT</td>\n",
       "    </tr>\n",
       "    <tr>\n",
       "      <th>6922444491712477</th>\n",
       "      <td>2019-08-04 14:19:40</td>\n",
       "      <td>2019-08-04 14:19:33</td>\n",
       "      <td>2019-08-04 14:19:46</td>\n",
       "      <td>2019-08-04 14:19:40</td>\n",
       "      <td>NaT</td>\n",
       "    </tr>\n",
       "    <tr>\n",
       "      <th>7435777799948366</th>\n",
       "      <td>NaT</td>\n",
       "      <td>2019-08-05 08:06:34</td>\n",
       "      <td>NaT</td>\n",
       "      <td>NaT</td>\n",
       "      <td>NaT</td>\n",
       "    </tr>\n",
       "    <tr>\n",
       "      <th>7702139951469979</th>\n",
       "      <td>2019-08-02 14:28:45</td>\n",
       "      <td>2019-08-01 04:29:54</td>\n",
       "      <td>2019-08-01 04:29:56</td>\n",
       "      <td>2019-08-02 14:28:45</td>\n",
       "      <td>NaT</td>\n",
       "    </tr>\n",
       "    <tr>\n",
       "      <th>8486814028069281</th>\n",
       "      <td>2019-08-05 04:49:18</td>\n",
       "      <td>2019-08-05 04:52:40</td>\n",
       "      <td>2019-08-05 04:49:13</td>\n",
       "      <td>NaT</td>\n",
       "      <td>NaT</td>\n",
       "    </tr>\n",
       "    <tr>\n",
       "      <th>8740973466195562</th>\n",
       "      <td>NaT</td>\n",
       "      <td>2019-08-02 09:16:48</td>\n",
       "      <td>2019-08-02 09:43:59</td>\n",
       "      <td>NaT</td>\n",
       "      <td>NaT</td>\n",
       "    </tr>\n",
       "    <tr>\n",
       "      <th>9841258664663090</th>\n",
       "      <td>2019-08-03 10:52:15</td>\n",
       "      <td>2019-08-03 10:47:59</td>\n",
       "      <td>2019-08-03 10:49:42</td>\n",
       "      <td>2019-08-03 17:57:27</td>\n",
       "      <td>2019-08-03 10:47:28</td>\n",
       "    </tr>\n",
       "    <tr>\n",
       "      <th>12692216027168046</th>\n",
       "      <td>NaT</td>\n",
       "      <td>2019-08-02 16:28:49</td>\n",
       "      <td>2019-08-05 04:06:02</td>\n",
       "      <td>NaT</td>\n",
       "      <td>NaT</td>\n",
       "    </tr>\n",
       "    <tr>\n",
       "      <th>15708180189885246</th>\n",
       "      <td>2019-08-01 11:06:19</td>\n",
       "      <td>2019-08-01 16:08:23</td>\n",
       "      <td>2019-08-01 05:38:55</td>\n",
       "      <td>2019-08-01 11:06:19</td>\n",
       "      <td>NaT</td>\n",
       "    </tr>\n",
       "    <tr>\n",
       "      <th>18658818197810381</th>\n",
       "      <td>2019-08-01 15:25:32</td>\n",
       "      <td>2019-08-02 03:05:37</td>\n",
       "      <td>2019-08-01 08:00:42</td>\n",
       "      <td>2019-08-03 13:47:35</td>\n",
       "      <td>NaT</td>\n",
       "    </tr>\n",
       "    <tr>\n",
       "      <th>20449203507642281</th>\n",
       "      <td>NaT</td>\n",
       "      <td>2019-08-06 21:04:21</td>\n",
       "      <td>NaT</td>\n",
       "      <td>NaT</td>\n",
       "      <td>NaT</td>\n",
       "    </tr>\n",
       "    <tr>\n",
       "      <th>20795828045873027</th>\n",
       "      <td>2019-08-01 08:01:55</td>\n",
       "      <td>2019-08-01 08:01:47</td>\n",
       "      <td>2019-08-01 08:01:48</td>\n",
       "      <td>2019-08-01 08:01:55</td>\n",
       "      <td>NaT</td>\n",
       "    </tr>\n",
       "    <tr>\n",
       "      <th>24144092107925848</th>\n",
       "      <td>NaT</td>\n",
       "      <td>2019-08-01 12:53:16</td>\n",
       "      <td>NaT</td>\n",
       "      <td>NaT</td>\n",
       "      <td>NaT</td>\n",
       "    </tr>\n",
       "    <tr>\n",
       "      <th>26317307137967461</th>\n",
       "      <td>NaT</td>\n",
       "      <td>2019-08-01 14:33:57</td>\n",
       "      <td>NaT</td>\n",
       "      <td>NaT</td>\n",
       "      <td>NaT</td>\n",
       "    </tr>\n",
       "  </tbody>\n",
       "</table>\n",
       "</div>"
      ],
      "text/plain": [
       "event                CartScreenAppear    MainScreenAppear  OffersScreenAppear  \\\n",
       "device_id                                                                       \n",
       "6888746892508752                  NaT 2019-08-06 14:06:34                 NaT   \n",
       "6909561520679493  2019-08-06 18:52:58 2019-08-06 18:52:54 2019-08-06 18:53:04   \n",
       "6922444491712477  2019-08-04 14:19:40 2019-08-04 14:19:33 2019-08-04 14:19:46   \n",
       "7435777799948366                  NaT 2019-08-05 08:06:34                 NaT   \n",
       "7702139951469979  2019-08-02 14:28:45 2019-08-01 04:29:54 2019-08-01 04:29:56   \n",
       "8486814028069281  2019-08-05 04:49:18 2019-08-05 04:52:40 2019-08-05 04:49:13   \n",
       "8740973466195562                  NaT 2019-08-02 09:16:48 2019-08-02 09:43:59   \n",
       "9841258664663090  2019-08-03 10:52:15 2019-08-03 10:47:59 2019-08-03 10:49:42   \n",
       "12692216027168046                 NaT 2019-08-02 16:28:49 2019-08-05 04:06:02   \n",
       "15708180189885246 2019-08-01 11:06:19 2019-08-01 16:08:23 2019-08-01 05:38:55   \n",
       "18658818197810381 2019-08-01 15:25:32 2019-08-02 03:05:37 2019-08-01 08:00:42   \n",
       "20449203507642281                 NaT 2019-08-06 21:04:21                 NaT   \n",
       "20795828045873027 2019-08-01 08:01:55 2019-08-01 08:01:47 2019-08-01 08:01:48   \n",
       "24144092107925848                 NaT 2019-08-01 12:53:16                 NaT   \n",
       "26317307137967461                 NaT 2019-08-01 14:33:57                 NaT   \n",
       "\n",
       "event             PaymentScreenSuccessful            Tutorial  \n",
       "device_id                                                      \n",
       "6888746892508752                      NaT                 NaT  \n",
       "6909561520679493      2019-08-06 18:52:58                 NaT  \n",
       "6922444491712477      2019-08-04 14:19:40                 NaT  \n",
       "7435777799948366                      NaT                 NaT  \n",
       "7702139951469979      2019-08-02 14:28:45                 NaT  \n",
       "8486814028069281                      NaT                 NaT  \n",
       "8740973466195562                      NaT                 NaT  \n",
       "9841258664663090      2019-08-03 17:57:27 2019-08-03 10:47:28  \n",
       "12692216027168046                     NaT                 NaT  \n",
       "15708180189885246     2019-08-01 11:06:19                 NaT  \n",
       "18658818197810381     2019-08-03 13:47:35                 NaT  \n",
       "20449203507642281                     NaT                 NaT  \n",
       "20795828045873027     2019-08-01 08:01:55                 NaT  \n",
       "24144092107925848                     NaT                 NaT  \n",
       "26317307137967461                     NaT                 NaT  "
      ]
     },
     "metadata": {},
     "output_type": "display_data"
    }
   ],
   "source": [
    "users = df.pivot_table(\n",
    "        index='device_id', \n",
    "        columns='event', \n",
    "        values='time_stamp',\n",
    "        aggfunc='min') \n",
    "\n",
    "display(users.head(15))"
   ]
  },
  {
   "cell_type": "code",
   "execution_count": 14,
   "metadata": {},
   "outputs": [
    {
     "name": "stdout",
     "output_type": "stream",
     "text": [
      "Зашли на главную страничку: 7419\n",
      "Зашли на страницу с продуктами: 4201\n",
      "Начали оформлять заказ: 1767\n",
      "Оплатили: 454\n",
      "Посмотрели справку 217\n"
     ]
    }
   ],
   "source": [
    "# посмтроим воронку с учётом порядка действий пользователей\n",
    "\n",
    "step_1 = ~users['MainScreenAppear'].isna()\n",
    "step_2 = step_1 & (users['OffersScreenAppear'] > users['MainScreenAppear'])\n",
    "step_3 = step_2 & (users['CartScreenAppear'] > users['OffersScreenAppear'])\n",
    "step_4 = step_3 & (users['PaymentScreenSuccessful'] > users['CartScreenAppear'])\n",
    "step_5 = step_4 & (users['CartScreenAppear'] > users['Tutorial'])\n",
    "\n",
    "n_main_page = users[step_1].shape[0]\n",
    "n_offer = users[step_2].shape[0]\n",
    "n_cart = users[step_3].shape[0]\n",
    "n_payment = users[step_4].shape[0]\n",
    "n_tutorial = users[step_5].shape[0]\n",
    "\n",
    "print('Зашли на главную страничку:', n_main_page)\n",
    "print('Зашли на страницу с продуктами:', n_offer)\n",
    "print('Начали оформлять заказ:', n_cart)\n",
    "print('Оплатили:', n_payment)\n",
    "print('Посмотрели справку',n_tutorial )"
   ]
  },
  {
   "cell_type": "code",
   "execution_count": 15,
   "metadata": {},
   "outputs": [],
   "source": [
    "#fig = go.Figure(go.Funnel(\n",
    " #   y = [\"Зашли на главную страничку\", \"Зашли на страницу с продуктами\", \"Начали оформлять заказ\", \"Оплатили\"],\n",
    "  #  x = [7419, 4201, 1767, 454],\n",
    "   # textposition = \"inside\",\n",
    "  #  textinfo = \"value+percent initial\",\n",
    "  #  opacity = 0.65, marker = {\"color\": [\"deepskyblue\", \"lightsalmon\", \"tan\", \"teal\", \"silver\"],\n",
    "  #  \"line\": {\"width\": [4, 2, 2, 3, 1, 1], \"color\": [\"wheat\", \"wheat\", \"blue\", \"wheat\", \"wheat\"]}},\n",
    "  #  connector = {\"line\": {\"color\": \"royalblue\", \"dash\": \"dot\", \"width\": 3}})\n",
    "  #  )\n",
    "\n",
    "#fig.show()"
   ]
  },
  {
   "cell_type": "markdown",
   "metadata": {},
   "source": [
    "**Визуализация воронки показывает показывает следующие тенденции:**\n",
    "- 57% занитересовались нашим сервисом и перешли с главной страницы на страницу с выборобом продуктов\n",
    "- 42% от тех кто просмотрел продукты начали оформлять заказ\n",
    "- всего 25% от тех кто начал оформлять заказл, удачно его оплатили\n",
    "- 47% тех кто просмотрели справку удачно оплатили заказ, а всего справку посмотрело всего около 3% из всех польщователей\n",
    "\n",
    "Иходя из полученных результатов я бы предварительно выдвинул такие гипотезы и реккомендации:\n",
    "- нужно сделать более видимую страницу с справкой , так половина успешно оплаченных заказов, проходили через окно справки, что показывает важность этого показателя для финальной оплаты;\n",
    "- большой разрыв между главной страницой и страницой выбора товара. Думаю либо нужно улучшать основную страницу приложение, либо же сразу выводить на выбор товара что бы сократить время перехода;\n",
    "- видимо есть проблемы с оформлением заказа, так как всего 25% начали и закончили оформлять заказ, а у других пользователей видно не получилось. Может сюда стоит втроить более простую схему оформления заказа и справку где-то держать рядом, так как она положительно влияет на конверсию"
   ]
  },
  {
   "cell_type": "code",
   "execution_count": 16,
   "metadata": {},
   "outputs": [],
   "source": [
    "df_246 = df.query('test_id == \"246\"')\n",
    "df_247 = df.query('test_id == \"247\"')\n",
    "df_248 = df.query('test_id == \"248\"')"
   ]
  },
  {
   "cell_type": "code",
   "execution_count": 17,
   "metadata": {},
   "outputs": [],
   "source": [
    "# делаю для графика funnel\n",
    "users_246 = df_246.pivot_table(\n",
    "        index='device_id', \n",
    "        columns='event', \n",
    "        values='time_stamp',\n",
    "        aggfunc='min') \n",
    "\n",
    "users_247 = df_247.pivot_table(\n",
    "        index='device_id', \n",
    "        columns='event', \n",
    "        values='time_stamp',\n",
    "        aggfunc='min') \n",
    "\n",
    "users_248 = df_248.pivot_table(\n",
    "        index='device_id', \n",
    "        columns='event', \n",
    "        values='time_stamp',\n",
    "        aggfunc='min') "
   ]
  },
  {
   "cell_type": "code",
   "execution_count": 18,
   "metadata": {},
   "outputs": [
    {
     "name": "stdout",
     "output_type": "stream",
     "text": [
      "Зашли на главную страничку: 2450\n",
      "Зашли на страницу с продуктами: 1411\n",
      "Начали оформлять заказ: 584\n",
      "Оплатили: 145\n",
      "Посмотрели справку 72\n",
      "Зашли на главную страничку: 2476\n",
      "Зашли на страницу с продуктами: 1379\n",
      "Начали оформлять заказ: 600\n",
      "Оплатили: 144\n",
      "Посмотрели справку 63\n",
      "Зашли на главную страничку: 2493\n",
      "Зашли на страницу с продуктами: 1411\n",
      "Начали оформлять заказ: 583\n",
      "Оплатили: 165\n",
      "Посмотрели справку 82\n"
     ]
    }
   ],
   "source": [
    "# 246\n",
    "step_1_246 = ~users_246['MainScreenAppear'].isna()\n",
    "step_2_246 = step_1_246 & (users_246['OffersScreenAppear'] > users_246['MainScreenAppear'])\n",
    "step_3_246 = step_2_246 & (users_246['CartScreenAppear'] > users_246['OffersScreenAppear'])\n",
    "step_4_246 = step_3_246 & (users_246['PaymentScreenSuccessful'] > users_246['CartScreenAppear'])\n",
    "step_5_246 = step_4_246 & (users_246['CartScreenAppear'] > users_246['Tutorial'])\n",
    "\n",
    "n_main_page_246 = users_246[step_1_246].shape[0]\n",
    "n_offer_246 = users_246[step_2_246].shape[0]\n",
    "n_cart_246 = users_246[step_3_246].shape[0]\n",
    "n_payment_246 = users_246[step_4_246].shape[0]\n",
    "n_tutorial_246 = users_246[step_5_246].shape[0]\n",
    "\n",
    "print('Зашли на главную страничку:', n_main_page_246)\n",
    "print('Зашли на страницу с продуктами:', n_offer_246)\n",
    "print('Начали оформлять заказ:', n_cart_246)\n",
    "print('Оплатили:', n_payment_246)\n",
    "print('Посмотрели справку',n_tutorial_246)\n",
    "\n",
    "# 247\n",
    "step_1_247 = ~users_247['MainScreenAppear'].isna()\n",
    "step_2_247 = step_1_247 & (users_247['OffersScreenAppear'] > users_247['MainScreenAppear'])\n",
    "step_3_247 = step_2_247 & (users_247['CartScreenAppear'] > users_247['OffersScreenAppear'])\n",
    "step_4_247 = step_3_247 & (users_247['PaymentScreenSuccessful'] > users_247['CartScreenAppear'])\n",
    "step_5_247 = step_4_247 & (users_247['CartScreenAppear'] > users_247['Tutorial'])\n",
    "\n",
    "n_main_page_247 = users_247[step_1_247].shape[0]\n",
    "n_offer_247 = users_247[step_2_247].shape[0]\n",
    "n_cart_247 = users_247[step_3_247].shape[0]\n",
    "n_payment_247 = users_247[step_4_247].shape[0]\n",
    "n_tutorial_247 = users_247[step_5_247].shape[0]\n",
    "\n",
    "print('Зашли на главную страничку:', n_main_page_247)\n",
    "print('Зашли на страницу с продуктами:', n_offer_247)\n",
    "print('Начали оформлять заказ:', n_cart_247)\n",
    "print('Оплатили:', n_payment_247)\n",
    "print('Посмотрели справку',n_tutorial_247)\n",
    "\n",
    "# 248\n",
    "\n",
    "step_1_248 = ~users_248['MainScreenAppear'].isna()\n",
    "step_2_248 = step_1_248 & (users_248['OffersScreenAppear'] > users_248['MainScreenAppear'])\n",
    "step_3_248 = step_2_248 & (users_248['CartScreenAppear'] > users_248['OffersScreenAppear'])\n",
    "step_4_248 = step_3_248 & (users_248['PaymentScreenSuccessful'] > users_248['CartScreenAppear'])\n",
    "step_5_248 = step_4_248 & (users_248['CartScreenAppear'] > users_248['Tutorial'])\n",
    "\n",
    "n_main_page_248 = users_248[step_1_248].shape[0]\n",
    "n_offer_248 = users_248[step_2_248].shape[0]\n",
    "n_cart_248 = users_248[step_3_248].shape[0]\n",
    "n_payment_248 = users_248[step_4_248].shape[0]\n",
    "n_tutorial_248 = users_248[step_5_248].shape[0]\n",
    "\n",
    "print('Зашли на главную страничку:', n_main_page_248)\n",
    "print('Зашли на страницу с продуктами:', n_offer_248)\n",
    "print('Начали оформлять заказ:', n_cart_248)\n",
    "print('Оплатили:', n_payment_248)\n",
    "print('Посмотрели справку',n_tutorial_248)"
   ]
  },
  {
   "cell_type": "code",
   "execution_count": 19,
   "metadata": {},
   "outputs": [],
   "source": [
    "#fig = go.Figure()\n",
    "\n",
    "#fig.add_trace(go.Funnel(\n",
    " #   name = 'группа 246',\n",
    " #   y = [\"Зашли на главную страничку\", \"Зашли на страницу с продуктами\", \"Начали оформлять заказ\", \"Оплатили\"],\n",
    " #   x = [2450, 1411, 584, 145],\n",
    " #   textinfo = \"value+percent initial\"))\n",
    "\n",
    "#fig.add_trace(go.Funnel(\n",
    " #   name = 'группа 247',\n",
    "  #  orientation = \"h\",\n",
    "   # y = [\"Зашли на главную страничку\", \"Зашли на страницу с продуктами\", \"Начали оформлять заказ\", \"Оплатили\"],\n",
    "#    x = [2476, 1379, 600, 144],\n",
    " #   textposition = \"inside\",\n",
    "  #  textinfo = \"value+percent previous\"))\n",
    "\n",
    "#fig.add_trace(go.Funnel(\n",
    " #   name = 'группа 248',\n",
    "  #  orientation = \"h\",\n",
    "  #  y = [\"Зашли на главную страничку\", \"Зашли на страницу с продуктами\", \"Начали оформлять заказ\", \"Оплатили\"],\n",
    "  #  x = [2493, 1411, 583, 165],\n",
    "  #  textposition = \"outside\",\n",
    "  #  textinfo = \"value+percent total\"))\n",
    "\n",
    "#fig.show()"
   ]
  },
  {
   "cell_type": "markdown",
   "metadata": {},
   "source": [
    "**Также для наглядности постролили воронку по разбивке кажой группы**"
   ]
  },
  {
   "cell_type": "markdown",
   "metadata": {},
   "source": [
    "*Исходя воронки разбитой по контрольным группам и новой наша конверсия в этих группах более менне равна для всех случаев, но вот у новой группы конверсия в оплату всё таки немного лучше а именно 6,6% от изначальных (против 5.9% и 5.8%) ну и выше по переходу оформление - успешанпя оплата*"
   ]
  },
  {
   "cell_type": "markdown",
   "metadata": {},
   "source": [
    "## Шаг 4\n",
    "<a id='4_link'><a>"
   ]
  },
  {
   "cell_type": "markdown",
   "metadata": {},
   "source": [
    "## Проводим А/А тест"
   ]
  },
  {
   "cell_type": "markdown",
   "metadata": {},
   "source": [
    "*так как у нас нормальное распределние и мы будем проверять гипотезы о равентсве нашей пропорции среди групп 246 и 247 будем испольщовать z test Фишера*\n",
    "*Нулевая гипотеза: между долями груп нет стастистической разницы*\n",
    "*Альтернативаня гипотеза: отвергаем нулевую и есть основания считать, что между долями груп есть разница*"
   ]
  },
  {
   "cell_type": "code",
   "execution_count": 20,
   "metadata": {},
   "outputs": [],
   "source": [
    "# даелаем функицю для проверки гипотез\n",
    "\n",
    "def a_a_test(data1, data2): #где data1 это количество просмотров от предидушего шага, а data2 количество перезодов на след. уровень\n",
    "    alpha = .1 # критический уровень статистической значимости\n",
    "\n",
    "    p1 = data2[0] / data1[0]\n",
    "    p2 = data2[1] / data1[1]\n",
    "    p_combined = (data2[0] + data2[1]) / (data1[0] + data1[1])\n",
    "    difference = p1 - p2\n",
    "\n",
    "    z_value = difference / cmath.sqrt(p_combined * (1 - p_combined) * (1/data1[0] + 1/data1[1]))\n",
    "\n",
    "    distr = st.norm(0,1)\n",
    "\n",
    "    p_value = (1 - distr.cdf(abs(z_value))) * 2\n",
    "\n",
    "    print('p-значение: ', p_value)\n",
    "\n",
    "    if (p_value < alpha):\n",
    "        print(\"Отвергаем нулевую гипотезу: между долями есть значимая разница\")\n",
    "    else:\n",
    "        print(\"Не получилось отвергнуть нулевую гипотезу, нет оснований считать доли разными\")"
   ]
  },
  {
   "cell_type": "markdown",
   "metadata": {},
   "source": [
    "*проверяем различие долей для перехода главная страница - страница с продуктами*"
   ]
  },
  {
   "cell_type": "code",
   "execution_count": 21,
   "metadata": {},
   "outputs": [
    {
     "name": "stdout",
     "output_type": "stream",
     "text": [
      "p-значение:  0.1791392160319234\n",
      "Не получилось отвергнуть нулевую гипотезу, нет оснований считать доли разными\n"
     ]
    },
    {
     "data": {
      "text/plain": [
       "None"
      ]
     },
     "metadata": {},
     "output_type": "display_data"
    }
   ],
   "source": [
    "data2 = n_offer_246, n_offer_247\n",
    "data1 = n_main_page_246, n_main_page_247\n",
    "display(a_a_test(data1, data2))\n"
   ]
  },
  {
   "cell_type": "markdown",
   "metadata": {},
   "source": [
    "*проверяем различие долей для перехода страница с продуктами - оформление заказа*"
   ]
  },
  {
   "cell_type": "code",
   "execution_count": 22,
   "metadata": {},
   "outputs": [
    {
     "name": "stdout",
     "output_type": "stream",
     "text": [
      "p-значение:  0.2571602924470018\n",
      "Не получилось отвергнуть нулевую гипотезу, нет оснований считать доли разными\n"
     ]
    },
    {
     "data": {
      "text/plain": [
       "None"
      ]
     },
     "metadata": {},
     "output_type": "display_data"
    }
   ],
   "source": [
    "data2 = n_cart_246, n_cart_247\n",
    "data1 = n_offer_246, n_offer_247\n",
    "display(a_a_test(data1, data2))\n"
   ]
  },
  {
   "cell_type": "markdown",
   "metadata": {},
   "source": [
    "*проверяем различие долей для перехода страница с оформление заказа - перход к оплате*"
   ]
  },
  {
   "cell_type": "code",
   "execution_count": 23,
   "metadata": {},
   "outputs": [
    {
     "name": "stdout",
     "output_type": "stream",
     "text": [
      "p-значение:  0.7399516568824782\n",
      "Не получилось отвергнуть нулевую гипотезу, нет оснований считать доли разными\n"
     ]
    },
    {
     "data": {
      "text/plain": [
       "None"
      ]
     },
     "metadata": {},
     "output_type": "display_data"
    }
   ],
   "source": [
    "data2 = n_payment_246, n_payment_247\n",
    "data1 = n_cart_246, n_cart_247\n",
    "display(a_a_test(data1, data2))\n"
   ]
  },
  {
   "cell_type": "markdown",
   "metadata": {},
   "source": [
    "*проверяем различие долей для перехода главаня страница - перход к справке*"
   ]
  },
  {
   "cell_type": "code",
   "execution_count": 24,
   "metadata": {},
   "outputs": [
    {
     "name": "stdout",
     "output_type": "stream",
     "text": [
      "p-значение:  0.39664401954186523\n",
      "Не получилось отвергнуть нулевую гипотезу, нет оснований считать доли разными\n"
     ]
    },
    {
     "data": {
      "text/plain": [
       "None"
      ]
     },
     "metadata": {},
     "output_type": "display_data"
    }
   ],
   "source": [
    "\n",
    "data2 = n_tutorial_246, n_tutorial_247\n",
    "data1 = n_main_page_246, n_main_page_247\n",
    "display(a_a_test(data1, data2))"
   ]
  },
  {
   "cell_type": "markdown",
   "metadata": {},
   "source": [
    "*проверяем различие долей для перехода оформление заказа - перход к справке*"
   ]
  },
  {
   "cell_type": "code",
   "execution_count": 25,
   "metadata": {},
   "outputs": [
    {
     "name": "stdout",
     "output_type": "stream",
     "text": [
      "p-значение:  0.3222560323282291\n",
      "Не получилось отвергнуть нулевую гипотезу, нет оснований считать доли разными\n"
     ]
    },
    {
     "data": {
      "text/plain": [
       "None"
      ]
     },
     "metadata": {},
     "output_type": "display_data"
    }
   ],
   "source": [
    "data2 = n_tutorial_246, n_tutorial_247\n",
    "data1 = n_cart_246, n_cart_247\n",
    "display(a_a_test(data1, data2))\n"
   ]
  },
  {
   "cell_type": "markdown",
   "metadata": {},
   "source": [
    "**Наш А/А анализ показал что во всех тестах нет оснований отвергать нулевую гипотезу, и между нашими долями нет статистически значимой разницы. Это говорит нам о том что с нашим разбиением на группы 246 и 247 всё нормально, и то что наше разбиение на группы сработало корректно**  "
   ]
  },
  {
   "cell_type": "markdown",
   "metadata": {},
   "source": [
    "## Переходим к A/B тестам"
   ]
  },
  {
   "cell_type": "markdown",
   "metadata": {},
   "source": [
    "**Для корректного продолжения експеримента будем продолжать использовать z критерий Фишера. Определим такие гипотезы:**\n",
    "- Нулевая гипотеза: между долями нет статистически значимой разницы\n",
    "- Альтернативаня гипотеза: есть основания считать, что между долями есть значимая разница"
   ]
  },
  {
   "cell_type": "markdown",
   "metadata": {},
   "source": [
    "**А/В тест груп 266 и 268**"
   ]
  },
  {
   "cell_type": "markdown",
   "metadata": {},
   "source": [
    "*проверяем различие долей для перехода главная страница - страница с продуктами*"
   ]
  },
  {
   "cell_type": "code",
   "execution_count": 26,
   "metadata": {},
   "outputs": [
    {
     "name": "stdout",
     "output_type": "stream",
     "text": [
      "p-значение:  0.48049838808343814\n",
      "Не получилось отвергнуть нулевую гипотезу, нет оснований считать доли разными\n"
     ]
    },
    {
     "data": {
      "text/plain": [
       "None"
      ]
     },
     "metadata": {},
     "output_type": "display_data"
    }
   ],
   "source": [
    "data2 = n_offer_246, n_offer_248\n",
    "data1 = n_main_page_246, n_main_page_248\n",
    "display(a_a_test(data1, data2))\n"
   ]
  },
  {
   "cell_type": "markdown",
   "metadata": {},
   "source": [
    "*проверяем различие долей для перехода страница с продуктами - оформление заказа*"
   ]
  },
  {
   "cell_type": "code",
   "execution_count": 27,
   "metadata": {},
   "outputs": [
    {
     "name": "stdout",
     "output_type": "stream",
     "text": [
      "p-значение:  0.9695085280919828\n",
      "Не получилось отвергнуть нулевую гипотезу, нет оснований считать доли разными\n"
     ]
    },
    {
     "data": {
      "text/plain": [
       "None"
      ]
     },
     "metadata": {},
     "output_type": "display_data"
    }
   ],
   "source": [
    "data2 = n_cart_246, n_cart_248\n",
    "data1 = n_offer_246, n_offer_248\n",
    "display(a_a_test(data1, data2))\n"
   ]
  },
  {
   "cell_type": "markdown",
   "metadata": {},
   "source": [
    "*проверяем различие долей для перехода страница с оформление заказа - перход к оплате*"
   ]
  },
  {
   "cell_type": "code",
   "execution_count": 28,
   "metadata": {},
   "outputs": [
    {
     "name": "stdout",
     "output_type": "stream",
     "text": [
      "p-значение:  0.17922330576112433\n",
      "Не получилось отвергнуть нулевую гипотезу, нет оснований считать доли разными\n"
     ]
    },
    {
     "data": {
      "text/plain": [
       "None"
      ]
     },
     "metadata": {},
     "output_type": "display_data"
    }
   ],
   "source": [
    "data2 = n_payment_246, n_payment_248\n",
    "data1 = n_cart_246, n_cart_248\n",
    "display(a_a_test(data1, data2))\n"
   ]
  },
  {
   "cell_type": "markdown",
   "metadata": {},
   "source": [
    "*проверяем различие долей для перехода главаня страница - перход к справке*"
   ]
  },
  {
   "cell_type": "code",
   "execution_count": 29,
   "metadata": {},
   "outputs": [
    {
     "name": "stdout",
     "output_type": "stream",
     "text": [
      "p-значение:  0.47830720155927886\n",
      "Не получилось отвергнуть нулевую гипотезу, нет оснований считать доли разными\n"
     ]
    },
    {
     "data": {
      "text/plain": [
       "None"
      ]
     },
     "metadata": {},
     "output_type": "display_data"
    }
   ],
   "source": [
    "\n",
    "data2 = n_tutorial_246, n_tutorial_248\n",
    "data1 = n_main_page_246, n_main_page_248\n",
    "display(a_a_test(data1, data2))\n"
   ]
  },
  {
   "cell_type": "markdown",
   "metadata": {},
   "source": [
    "*проверяем различие долей для перехода оформление заказа - перход к справке*"
   ]
  },
  {
   "cell_type": "code",
   "execution_count": 30,
   "metadata": {
    "scrolled": true
   },
   "outputs": [
    {
     "name": "stdout",
     "output_type": "stream",
     "text": [
      "p-значение:  0.3808546194879363\n",
      "Не получилось отвергнуть нулевую гипотезу, нет оснований считать доли разными\n"
     ]
    },
    {
     "data": {
      "text/plain": [
       "None"
      ]
     },
     "metadata": {},
     "output_type": "display_data"
    }
   ],
   "source": [
    "data2 = n_tutorial_246, n_tutorial_248\n",
    "data1 = n_cart_246, n_cart_248\n",
    "display(a_a_test(data1, data2))\n"
   ]
  },
  {
   "cell_type": "markdown",
   "metadata": {},
   "source": [
    "*после проведения А/В тестов между контрольной группой 266 и новой 268 можно сказать, что статистически значимой разницы между долями нет, как при 0.1 так и при 0.05 уровню стастистической значимости*"
   ]
  },
  {
   "cell_type": "markdown",
   "metadata": {},
   "source": [
    "**А/В тест груп 267 и 268**"
   ]
  },
  {
   "cell_type": "markdown",
   "metadata": {},
   "source": [
    "*проверяем различие долей для перехода главная страница - страница с продуктами*"
   ]
  },
  {
   "cell_type": "code",
   "execution_count": 31,
   "metadata": {},
   "outputs": [
    {
     "name": "stdout",
     "output_type": "stream",
     "text": [
      "p-значение:  0.5208915431808141\n",
      "Не получилось отвергнуть нулевую гипотезу, нет оснований считать доли разными\n"
     ]
    },
    {
     "data": {
      "text/plain": [
       "None"
      ]
     },
     "metadata": {},
     "output_type": "display_data"
    }
   ],
   "source": [
    "data2 = n_offer_247, n_offer_248\n",
    "data1 = n_main_page_247, n_main_page_248\n",
    "display(a_a_test(data1, data2))\n"
   ]
  },
  {
   "cell_type": "markdown",
   "metadata": {},
   "source": [
    "*проверяем различие долей для перехода страница с продуктами - оформление заказа*"
   ]
  },
  {
   "cell_type": "code",
   "execution_count": 32,
   "metadata": {},
   "outputs": [
    {
     "name": "stdout",
     "output_type": "stream",
     "text": [
      "p-значение:  0.24154783250462764\n",
      "Не получилось отвергнуть нулевую гипотезу, нет оснований считать доли разными\n"
     ]
    },
    {
     "data": {
      "text/plain": [
       "None"
      ]
     },
     "metadata": {},
     "output_type": "display_data"
    }
   ],
   "source": [
    "data2 = n_cart_247, n_cart_248\n",
    "data1 = n_offer_247, n_offer_248\n",
    "display(a_a_test(data1, data2))\n"
   ]
  },
  {
   "cell_type": "markdown",
   "metadata": {},
   "source": [
    "*проверяем различие долей для перехода страница с оформление заказа - перход к оплате*"
   ]
  },
  {
   "cell_type": "code",
   "execution_count": 33,
   "metadata": {},
   "outputs": [
    {
     "name": "stdout",
     "output_type": "stream",
     "text": [
      "p-значение:  0.09219350245330471\n",
      "Отвергаем нулевую гипотезу: между долями есть значимая разница\n"
     ]
    },
    {
     "data": {
      "text/plain": [
       "None"
      ]
     },
     "metadata": {},
     "output_type": "display_data"
    }
   ],
   "source": [
    "data2 = n_payment_247, n_payment_248\n",
    "data1 = n_cart_247, n_cart_248\n",
    "display(a_a_test(data1, data2))\n"
   ]
  },
  {
   "cell_type": "markdown",
   "metadata": {},
   "source": [
    "*проверяем различие долей для перехода главаня страница - перход к справке*"
   ]
  },
  {
   "cell_type": "code",
   "execution_count": 34,
   "metadata": {},
   "outputs": [
    {
     "name": "stdout",
     "output_type": "stream",
     "text": [
      "p-значение:  0.11885443090833969\n",
      "Не получилось отвергнуть нулевую гипотезу, нет оснований считать доли разными\n"
     ]
    },
    {
     "data": {
      "text/plain": [
       "None"
      ]
     },
     "metadata": {},
     "output_type": "display_data"
    }
   ],
   "source": [
    "\n",
    "data2 = n_tutorial_247, n_tutorial_248\n",
    "data1 = n_main_page_247, n_main_page_248\n",
    "display(a_a_test(data1, data2))\n"
   ]
  },
  {
   "cell_type": "markdown",
   "metadata": {},
   "source": [
    "*проверяем различие долей для перехода оформление заказа - перход к справке*"
   ]
  },
  {
   "cell_type": "code",
   "execution_count": 35,
   "metadata": {
    "scrolled": true
   },
   "outputs": [
    {
     "name": "stdout",
     "output_type": "stream",
     "text": [
      "p-значение:  0.061567883096199205\n",
      "Отвергаем нулевую гипотезу: между долями есть значимая разница\n"
     ]
    },
    {
     "data": {
      "text/plain": [
       "None"
      ]
     },
     "metadata": {},
     "output_type": "display_data"
    }
   ],
   "source": [
    "data2 = n_tutorial_247, n_tutorial_248\n",
    "data1 = n_cart_247, n_cart_248\n",
    "display(a_a_test(data1, data2))\n"
   ]
  },
  {
   "cell_type": "markdown",
   "metadata": {},
   "source": [
    "*после А/В тестов при критическом уровне 0.05 статистически значимых заличий в контрольной выборке и новой нет, но вот при уровне 0.1 тест показывает нам что есть разница в долях при переходе со страницы оформления заказа - справка и оформление заказа - оплата*"
   ]
  },
  {
   "cell_type": "markdown",
   "metadata": {},
   "source": [
    "**А/В тест груп общей группы (266+267) и 268**"
   ]
  },
  {
   "cell_type": "markdown",
   "metadata": {},
   "source": [
    "*проверяем различие долей для перехода главная страница - страница с продуктами в общей выборке и новой*"
   ]
  },
  {
   "cell_type": "code",
   "execution_count": 36,
   "metadata": {},
   "outputs": [
    {
     "name": "stdout",
     "output_type": "stream",
     "text": [
      "p-значение:  0.9739544491299794\n",
      "Не получилось отвергнуть нулевую гипотезу, нет оснований считать доли разными\n"
     ]
    },
    {
     "data": {
      "text/plain": [
       "None"
      ]
     },
     "metadata": {},
     "output_type": "display_data"
    }
   ],
   "source": [
    "data2 = n_offer_247+n_offer_246, n_offer_248\n",
    "data1 = n_main_page_247+n_main_page_246, n_main_page_248\n",
    "display(a_a_test(data1, data2))\n"
   ]
  },
  {
   "cell_type": "markdown",
   "metadata": {},
   "source": [
    "*проверяем различие долей для перехода страница с продуктами - оформление заказа*"
   ]
  },
  {
   "cell_type": "code",
   "execution_count": 37,
   "metadata": {},
   "outputs": [
    {
     "name": "stdout",
     "output_type": "stream",
     "text": [
      "p-значение:  0.48772425017293974\n",
      "Не получилось отвергнуть нулевую гипотезу, нет оснований считать доли разными\n"
     ]
    },
    {
     "data": {
      "text/plain": [
       "None"
      ]
     },
     "metadata": {},
     "output_type": "display_data"
    }
   ],
   "source": [
    "data2 = n_cart_247+n_cart_246, n_cart_248\n",
    "data1 = n_offer_247+n_offer_246, n_offer_248\n",
    "display(a_a_test(data1, data2))"
   ]
  },
  {
   "cell_type": "markdown",
   "metadata": {},
   "source": [
    "*проверяем различие долей для перехода страница с оформление заказа - перход к оплате*"
   ]
  },
  {
   "cell_type": "code",
   "execution_count": 38,
   "metadata": {},
   "outputs": [
    {
     "name": "stdout",
     "output_type": "stream",
     "text": [
      "p-значение:  0.07823520976058496\n",
      "Отвергаем нулевую гипотезу: между долями есть значимая разница\n"
     ]
    },
    {
     "data": {
      "text/plain": [
       "None"
      ]
     },
     "metadata": {},
     "output_type": "display_data"
    }
   ],
   "source": [
    "data2 = n_payment_247+n_payment_246, n_payment_248\n",
    "data1 = n_cart_247+n_cart_246, n_cart_248\n",
    "display(a_a_test(data1, data2))"
   ]
  },
  {
   "cell_type": "markdown",
   "metadata": {},
   "source": [
    "*проверяем различие долей для перехода главаня страница - перход к справке общей контрольной и новой*"
   ]
  },
  {
   "cell_type": "code",
   "execution_count": 39,
   "metadata": {},
   "outputs": [
    {
     "name": "stdout",
     "output_type": "stream",
     "text": [
      "p-значение:  0.18526859775696214\n",
      "Не получилось отвергнуть нулевую гипотезу, нет оснований считать доли разными\n"
     ]
    },
    {
     "data": {
      "text/plain": [
       "None"
      ]
     },
     "metadata": {},
     "output_type": "display_data"
    }
   ],
   "source": [
    "data2 = n_tutorial_247+n_tutorial_246, n_tutorial_248\n",
    "data1 = n_main_page_247+n_main_page_246, n_main_page_248\n",
    "display(a_a_test(data1, data2))"
   ]
  },
  {
   "cell_type": "markdown",
   "metadata": {},
   "source": [
    "*проверяем различие долей для перехода оформление - перход к справке общей контрольной и новой*"
   ]
  },
  {
   "cell_type": "code",
   "execution_count": 40,
   "metadata": {},
   "outputs": [
    {
     "name": "stdout",
     "output_type": "stream",
     "text": [
      "p-значение:  0.10877556383306075\n",
      "Не получилось отвергнуть нулевую гипотезу, нет оснований считать доли разными\n"
     ]
    },
    {
     "data": {
      "text/plain": [
       "None"
      ]
     },
     "metadata": {},
     "output_type": "display_data"
    }
   ],
   "source": [
    "data2 = n_tutorial_247+n_tutorial_246, n_tutorial_248\n",
    "data1 = n_cart_247+n_cart_246, n_cart_248\n",
    "display(a_a_test(data1, data2))"
   ]
  },
  {
   "cell_type": "markdown",
   "metadata": {},
   "source": [
    "*после А/В тестов при критическом уровне 0.05 статистически значимых заличий в контрольной выборке и новой нет, но вот при уровне 0.1 тест показывает нам что есть разница в долях при переходе со страницы оформления заказа - оплата*"
   ]
  },
  {
   "cell_type": "markdown",
   "metadata": {},
   "source": [
    "**во время тестов критический уровень статистической значимости был 0.05 так и 0.1 и в следующих тестах были такие показатели:**\n",
    "- А/А тест: во обоих случаях изменений не было\n",
    "- А/В тест группа 266 и 268: во обоих случаях изменений не было\n",
    "- А/В тест группа 267 и 268: при уровне 0.05 изменений не было, а вот при 0.1  были в переходах с оформления - справки и оформление заказа - оплата разница была\n",
    "- А/В тест группа 267+266 и 268: при уровне 0.05 изменений не было, а вот при 0.1  были в переходах с оформления - оплата есть разница"
   ]
  },
  {
   "cell_type": "markdown",
   "metadata": {},
   "source": [
    "**Всего мы провели в общей сложности 40 тестов, 10 А/А тестов и 30 А/В тестов и только 3 из них показали отличия в выборках, что может говорить о том что они ложные (каждые 10 тестов могут иметь ложный результат), но далее об этом в общих выводах**"
   ]
  },
  {
   "cell_type": "markdown",
   "metadata": {},
   "source": [
    "## Общие выводы\n",
    "<a id='5_link'><a>"
   ]
  },
  {
   "cell_type": "markdown",
   "metadata": {},
   "source": [
    "**В данной работе мы построили как общую продуктовую воронку так и в разбивке по контрольным группам также провели 40 тестов из которых 10 А/А тестов и 30 А/В тестов и можно сделать такой вывод:**\n",
    "- после проведения тестов у нас возникает разница в долях между в оформлении заказов - справка и офрмление заказов - оплата, но так как было 40 тестов можно считать, что эти тесты дали ложный результат. Но, если детальней изучить воронку, то можно заметить, что у новой группы показатели конверсии, практически везде лучше. Исходя из проведенного анализа, я бы сказал, что шрифты менять в этой ситуации можно и оно даже немного улучшает конверсию"
   ]
  },
  {
   "cell_type": "code",
   "execution_count": null,
   "metadata": {},
   "outputs": [],
   "source": []
  }
 ],
 "metadata": {
  "kernelspec": {
   "display_name": "Python 3",
   "language": "python",
   "name": "python3"
  },
  "language_info": {
   "codemirror_mode": {
    "name": "ipython",
    "version": 3
   },
   "file_extension": ".py",
   "mimetype": "text/x-python",
   "name": "python",
   "nbconvert_exporter": "python",
   "pygments_lexer": "ipython3",
   "version": "3.8.3"
  },
  "widgets": {
   "application/vnd.jupyter.widget-state+json": {
    "state": {},
    "version_major": 2,
    "version_minor": 0
   }
  }
 },
 "nbformat": 4,
 "nbformat_minor": 4
}
